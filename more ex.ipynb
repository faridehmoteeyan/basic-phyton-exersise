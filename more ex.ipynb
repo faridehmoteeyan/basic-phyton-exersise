{
 "cells": [
  {
   "cell_type": "markdown",
   "id": "c8eb3324",
   "metadata": {},
   "source": [
    "## some exersises:\n",
    "### from:\n",
    "#### *** استاد جادی میرمیرانی    *** سایت مکتب خونه"
   ]
  },
  {
   "cell_type": "markdown",
   "id": "6c23ee97",
   "metadata": {},
   "source": [
    "### ex1"
   ]
  },
  {
   "cell_type": "code",
   "execution_count": 7,
   "id": "207f0594",
   "metadata": {},
   "outputs": [
    {
     "name": "stdout",
     "output_type": "stream",
     "text": [
      "\"\"select a number betwean 1 to 99\n",
      "      k means your num is bigger than mine\n",
      "      b means your num is smaller than mine\n",
      "      enter d if i guess correctly\n",
      "50\n",
      "give me your letter\tb\n",
      "5\n",
      "give me your letter\tb\n",
      "2\n",
      "give me your letter\td\n",
      "I did it,your num is  2 in 3 selections\n"
     ]
    }
   ],
   "source": [
    "import random\n",
    "print(\"\"\"\"\"select a number betwean 1 to 99\n",
    "      k means your num is bigger than mine\n",
    "      b means your num is smaller than mine\n",
    "      enter d if i guess correctly\"\"\"\"\")\n",
    "x=50\n",
    "maxim=99\n",
    "minim=1\n",
    "counter=0\n",
    "\n",
    "locker=True\n",
    "while locker:\n",
    "    counter+=1\n",
    "    print(x)\n",
    "    helper = input(\"give me your letter\\t\")\n",
    "    if helper=='d':\n",
    "        print(\"I did it,your num is \",x,f\"in {counter} selections\")\n",
    "        locker=False\n",
    "    if helper=='k':\n",
    "        minim=x+1\n",
    "        x=random.randint(x+1,maxim)\n",
    "    if helper=='b':\n",
    "        maxim=x-1\n",
    "        x=random.randint(minim,x-1)        \n",
    "        "
   ]
  },
  {
   "cell_type": "code",
   "execution_count": null,
   "id": "c54c1c95",
   "metadata": {},
   "outputs": [],
   "source": [
    "#make it more playful\n",
    "\n",
    "a=int(input(\"do yoy think Ican find your number in ... attempt\"))\n",
    "\n",
    "#main function\n",
    "import random\n",
    "print(\"\"\"\"\"select a number betwean 1 to 99\n",
    "      k means your num is bigger than mine\n",
    "      b means your num is smaller than mine\n",
    "      enter d if i guess correctly\"\"\"\"\")\n",
    "x=50\n",
    "maxim=100\n",
    "minim=0\n",
    "counter=0\n",
    "\n",
    "locker=True\n",
    "while locker:\n",
    "    counter+=1\n",
    "    print(x)\n",
    "    helper = input(\"give me your letter\")\n",
    "    if helper=='d':\n",
    "        print(\"I did it,your num is \",x,f\"in {counter} selections\")\n",
    "        locker=False\n",
    "    if helper=='k':\n",
    "        minim=x+1\n",
    "        x=random.randint(x+1,maxim)\n",
    "    if helper=='b':\n",
    "        maxim=x-1\n",
    "        x=random.randint(minim,x-1) \n",
    "\n",
    "#comper number of attempt with your guess\n",
    "if counter==a:\n",
    "    print(\"you win \")\n",
    "elif counter<a:\n",
    "    print(\"you cant guess well,it was too pessimistic \")\n",
    "else:\n",
    "    print(\"you are not as lucky as computer,i wish you try biggest number\")\n"
   ]
  },
  {
   "cell_type": "markdown",
   "id": "319d3e96",
   "metadata": {},
   "source": [
    "## ex2"
   ]
  },
  {
   "cell_type": "code",
   "execution_count": null,
   "id": "7bd649a9",
   "metadata": {},
   "outputs": [],
   "source": [
    "n2=0\n",
    "n=0\n",
    "\n",
    "while 1:\n",
    "    n2=int(input(\"give me his age,-1 for calcluate\"))\n",
    "    if n2==-1:\n",
    "        break\n",
    "    if n<n2:\n",
    "        n=n2\n",
    "print(\"the max age is\",n)\n",
    "    "
   ]
  },
  {
   "cell_type": "markdown",
   "id": "684c6444",
   "metadata": {},
   "source": [
    "### ex 3"
   ]
  },
  {
   "cell_type": "code",
   "execution_count": null,
   "id": "c67d216b",
   "metadata": {},
   "outputs": [],
   "source": [
    "string =input(\"enter your string,I'll put dot instead of soundletter ,then make CAPITAL WORD to small one\")\n",
    "sound=\"aeiouAEIOU\"\n",
    "new_string = \"\"\n",
    "\n",
    "for ch in string:\n",
    "    if ch in sound:\n",
    "        new_string=new_string+\".\"\n",
    "    else:\n",
    "        ch=ch.lower()\n",
    "        new_string=new_string+ch\n",
    "print(new_string)\n"
   ]
  },
  {
   "cell_type": "markdown",
   "id": "7fa98090",
   "metadata": {},
   "source": [
    "### ex4"
   ]
  },
  {
   "cell_type": "code",
   "execution_count": 50,
   "id": "dfa8a6d6",
   "metadata": {},
   "outputs": [],
   "source": [
    "#calclute how many divisor we have\n",
    "\n",
    "def divisor(num):\n",
    "    counter=2 \n",
    "    y = int(num/2)+1\n",
    "    for i in range(2,y):\n",
    "        if num % i == 0:\n",
    "            counter+=1\n",
    "    return counter"
   ]
  },
  {
   "cell_type": "code",
   "execution_count": 51,
   "id": "cae81ed1",
   "metadata": {},
   "outputs": [
    {
     "name": "stdout",
     "output_type": "stream",
     "text": [
      "enter your number555\n",
      "enter your number801\n",
      "enter your number672\n",
      "your672 with ,24 divisions\n"
     ]
    }
   ],
   "source": [
    "min_renge=0\n",
    "addad=0\n",
    "for i in range(20):\n",
    "    num=int(input(\"enter your number\"))\n",
    "    if divisor(num)>min_renge:\n",
    "        min_renge=divisor(num)\n",
    "        addad=num\n",
    "print(f\"your{addad} with ,{min_renge} divisions\")"
   ]
  }
 ],
 "metadata": {
  "kernelspec": {
   "display_name": "Python 3 (ipykernel)",
   "language": "python",
   "name": "python3"
  },
  "language_info": {
   "codemirror_mode": {
    "name": "ipython",
    "version": 3
   },
   "file_extension": ".py",
   "mimetype": "text/x-python",
   "name": "python",
   "nbconvert_exporter": "python",
   "pygments_lexer": "ipython3",
   "version": "3.9.12"
  }
 },
 "nbformat": 4,
 "nbformat_minor": 5
}

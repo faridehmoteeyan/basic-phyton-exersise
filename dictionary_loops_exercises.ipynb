{
 "cells": [
  {
   "cell_type": "markdown",
   "id": "ccadd189",
   "metadata": {},
   "source": [
    "#### you can find the source of questions here:\n",
    "<br>\n",
    "<a href=\"https://github.com/pooya-mohammadi/intro_to_python/blob/master/14_dictionary_loops_exercises.ipynb?short_path=5426461\">github</a>\n",
    " and   <a href=\"https://www.youtube.com/watch?v=MlNaBxip0VQ&list=PL2g_5adpoaeLU_lA-6kIDZk2uiH-LOpal&index=16\">you tube</a>\n"
   ]
  },
  {
   "cell_type": "markdown",
   "id": "9a11e722",
   "metadata": {},
   "source": [
    "#### Task 1:\n",
    "\n",
    "Extract values from a dictionary that their keys are present in a given list\n",
    "\n"
   ]
  },
  {
   "cell_type": "code",
   "execution_count": 18,
   "id": "9f2d87d7",
   "metadata": {},
   "outputs": [
    {
     "name": "stdout",
     "output_type": "stream",
     "text": [
      "give me yourkeysalary age\n"
     ]
    },
    {
     "data": {
      "text/plain": [
       "[0, 20]"
      ]
     },
     "execution_count": 18,
     "metadata": {},
     "output_type": "execute_result"
    }
   ],
   "source": [
    "dic={\"name\":\"farideh\",\n",
    "    \"age\":20,\n",
    "    \"gob\":\"unimployee\",\n",
    "    \"salary\":0}\n",
    "\n",
    "a=input(\"give me yourkey\")\n",
    "list_a=a.split()\n",
    "[dic[i] for i in list_a if i in dic.keys()]"
   ]
  },
  {
   "cell_type": "markdown",
   "id": "520fc08f",
   "metadata": {},
   "source": [
    "### Task 2:\n",
    "\n",
    "flatten a nested dictionary. If a key is already present in the result dict, add a suffix like \"_1\" to distinguish between keys with the same name.\n",
    "\n"
   ]
  },
  {
   "cell_type": "code",
   "execution_count": 11,
   "id": "19bfdc3d",
   "metadata": {},
   "outputs": [],
   "source": [
    "student_data = {'id1':\n",
    "                    {'name': 'Sara',\n",
    "                     'age': 28,\n",
    "                     'salary': 2000\n",
    "                     },\n",
    "                'id2':\n",
    "                    {'name': 'Sara',\n",
    "                     'age': 18,\n",
    "                     'salary': 1000\n",
    "                     },\n",
    "                \"a\": \"A\",\n",
    "                'id3':\n",
    "                    {'name': 'Omid',\n",
    "                     \"age\": 20,\n",
    "                     'salary': 1000\n",
    "                     },\n",
    "                'id4': dict(name=\"Amir\", age=28, salary=2000),\n",
    "                \"last_name\": \"Mohammadi\",\n",
    "                }\n",
    "# output: {name_0: Sara, age_0: 28, salary_0: 2000, ..., a: A, ...,  name_1: sara, ..., last_name: Mohammadi}\n",
    "# Note: a and last_name do not have suffix because for each of them there is only one ... "
   ]
  },
  {
   "cell_type": "code",
   "execution_count": 44,
   "id": "c3eb0c94",
   "metadata": {},
   "outputs": [
    {
     "data": {
      "text/plain": [
       "{'name_0': 'Sara',\n",
       " 'age_0': 28,\n",
       " 'salary_0': 2000,\n",
       " 'name_1': 'Sara',\n",
       " 'age_1': 18,\n",
       " 'salary_1': 1000,\n",
       " 'A': 'A',\n",
       " 'name_3': 'Omid',\n",
       " 'age_3': 20,\n",
       " 'salary_3': 1000,\n",
       " 'name_4': 'Amir',\n",
       " 'age_4': 28,\n",
       " 'salary_4': 2000,\n",
       " 'Mohammadi': 'Mohammadi'}"
      ]
     },
     "execution_count": 44,
     "metadata": {},
     "output_type": "execute_result"
    }
   ],
   "source": [
    "dic_flatt=dict()\n",
    "for en,i in enumerate( student_data.values()):\n",
    "    if type(i) is dict:\n",
    "        for (k,v) in i.items():\n",
    "            key_flat=str(k+\"_\"+str(en))\n",
    "            dic_flatt[key_flat]=v\n",
    "    elif type(i) is str:\n",
    "        for x in student_data:\n",
    "            if student_data[x]== i:\n",
    "                key_string =student_data[x]\n",
    "                dic_flatt[key_string]=i\n",
    "            \n",
    "\n",
    "        \n",
    "dic_flatt"
   ]
  },
  {
   "cell_type": "code",
   "execution_count": 29,
   "id": "839a85d9",
   "metadata": {},
   "outputs": [
    {
     "name": "stdout",
     "output_type": "stream",
     "text": [
      "{'name': 'Sara', 'age': 28, 'salary': 2000} <class 'dict'>\n",
      "{'name': 'Sara', 'age': 18, 'salary': 1000} <class 'dict'>\n",
      "A <class 'str'>\n",
      "{'name': 'Omid', 'age': 20, 'salary': 1000} <class 'dict'>\n",
      "{'name': 'Amir', 'age': 28, 'salary': 2000} <class 'dict'>\n",
      "Mohammadi <class 'str'>\n"
     ]
    }
   ],
   "source": [
    "\n",
    "\n",
    "\n"
   ]
  },
  {
   "cell_type": "code",
   "execution_count": 22,
   "id": "d69c0fa5",
   "metadata": {},
   "outputs": [
    {
     "data": {
      "text/plain": [
       "[]"
      ]
     },
     "execution_count": 22,
     "metadata": {},
     "output_type": "execute_result"
    }
   ],
   "source": [
    "a=[\"a\",\"l\",5]\n",
    "[i for i in a if i is str]"
   ]
  },
  {
   "cell_type": "markdown",
   "id": "ff4375e5",
   "metadata": {},
   "source": [
    "### Task 3\n",
    "Write a Python program to drop items with None or empty values from a given dictionary\n",
    "\n",
    " "
   ]
  },
  {
   "cell_type": "code",
   "execution_count": 6,
   "id": "132e2827",
   "metadata": {},
   "outputs": [
    {
     "name": "stdout",
     "output_type": "stream",
     "text": [
      "{'a': 'A', 'b': 'B'}\n"
     ]
    }
   ],
   "source": [
    "dict_ = {\"a\": \"A\", \"b\": \"B\", \"c\": None, \"d\": \"\"}\n",
    "\n",
    "a=[k for k,v in dict_.items() if v is None or v==\"\"]\n",
    "for i in a:\n",
    "    del dict_[i]\n",
    "print(dict_)"
   ]
  },
  {
   "cell_type": "code",
   "execution_count": 2,
   "id": "8e19c2ca",
   "metadata": {},
   "outputs": [
    {
     "ename": "SyntaxError",
     "evalue": "invalid syntax (3823270417.py, line 4)",
     "output_type": "error",
     "traceback": [
      "\u001b[1;36m  Input \u001b[1;32mIn [2]\u001b[1;36m\u001b[0m\n\u001b[1;33m    [ (del dict_[i]) for i in a ]\u001b[0m\n\u001b[1;37m       ^\u001b[0m\n\u001b[1;31mSyntaxError\u001b[0m\u001b[1;31m:\u001b[0m invalid syntax\n"
     ]
    }
   ],
   "source": [
    "dict_ = {\"a\": \"A\", \"b\": \"B\", \"c\": None, \"d\": \"\"}\n",
    "\n",
    "a=[k for k,v in dict_.items() if v==None or v==\"\"]\n",
    "# its not generate a value.\n",
    "[ (del dict_[i]) for i in a ]"
   ]
  },
  {
   "cell_type": "markdown",
   "id": "17e198b6",
   "metadata": {},
   "source": [
    "#### Task 4\n",
    "Create a dictionary two given lists using `zip`\n",
    "\n"
   ]
  },
  {
   "cell_type": "code",
   "execution_count": 10,
   "id": "819ea2ae",
   "metadata": {},
   "outputs": [
    {
     "data": {
      "text/plain": [
       "{'a': 'a', 'ali': 'ali', 'b': 'b'}"
      ]
     },
     "execution_count": 10,
     "metadata": {},
     "output_type": "execute_result"
    }
   ],
   "source": [
    "lst_1 = [\"a\", \"ali\", \"b\"]\n",
    "lst_2 = [\"a\", \"ali\", \"b\"]\n",
    "\n",
    "dict([(a,b) for a,b in zip(lst_1,lst_2)])"
   ]
  },
  {
   "cell_type": "code",
   "execution_count": null,
   "id": "75d8baa8",
   "metadata": {},
   "outputs": [],
   "source": []
  }
 ],
 "metadata": {
  "kernelspec": {
   "display_name": "Python 3 (ipykernel)",
   "language": "python",
   "name": "python3"
  },
  "language_info": {
   "codemirror_mode": {
    "name": "ipython",
    "version": 3
   },
   "file_extension": ".py",
   "mimetype": "text/x-python",
   "name": "python",
   "nbconvert_exporter": "python",
   "pygments_lexer": "ipython3",
   "version": "3.9.12"
  }
 },
 "nbformat": 4,
 "nbformat_minor": 5
}

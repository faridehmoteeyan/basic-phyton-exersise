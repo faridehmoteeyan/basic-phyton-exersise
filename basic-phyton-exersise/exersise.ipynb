{
 "cells": [
  {
   "cell_type": "markdown",
   "id": "84aac9be",
   "metadata": {},
   "source": [
    "# basic python exersise\n",
    "### yoy can see the question:<a href=\"https://github.com/pooya-mohammadi/intro_to_python/blob/master/08_loops_if_else_exercises.ipynb\">link is here</a> \n",
    "\n",
    "\n",
    "\n"
   ]
  },
  {
   "cell_type": "markdown",
   "id": "c7149f90",
   "metadata": {},
   "source": [
    "## ex1"
   ]
  },
  {
   "cell_type": "raw",
   "id": "5a898599",
   "metadata": {},
   "source": [
    "\n",
    "    Write a python program to detect integer items in a list of string items, cast them into int, and print/return them out.\n",
    "\n",
    "example: input: lst = ['11', 'pooya', '10', '10.5', \"32K232\", \"0\"]\n",
    "\n",
    "result: 11 10 0\n",
    "\n",
    "Note: in this exercise, you are not allowed to use:\n",
    "try except, str.isdecimal, str.isdigit, and so on. \n",
    "just use: for, while, True False if, and so on. \n",
    "hint: you should have two nested for-loops"
   ]
  },
  {
   "cell_type": "code",
   "execution_count": 6,
   "id": "28902369",
   "metadata": {},
   "outputs": [
    {
     "name": "stdout",
     "output_type": "stream",
     "text": [
      "11\n",
      "10\n",
      "0\n"
     ]
    }
   ],
   "source": [
    "# simplest way:\n",
    "lst = ['11', 'pooya', '10', '10.5', \"32K232\", \"0\"]\n",
    "valid='1234567890'\n",
    "\n",
    "for item in lst:\n",
    "    for ch in item:\n",
    "        flag=True\n",
    "        if ch not in valid:\n",
    "            flag=False\n",
    "            break\n",
    "    if flag:\n",
    "        print(int(item))\n",
    "            "
   ]
  },
  {
   "cell_type": "markdown",
   "id": "04a1a642",
   "metadata": {},
   "source": [
    "## ex 2"
   ]
  },
  {
   "cell_type": "markdown",
   "id": "25a7343c",
   "metadata": {},
   "source": [
    " Write a python program to print all even numbers from a given list of numbers in the same order. Sample numbers list :\n",
    "\n",
    "numbers = [386, 462, 47, 418, 907, 344, 236, 375, 823, 566, 597, 978, 328, 615, 953, 345, 399, 162, 758, 219, 918, 237, 412, 566, 826, 248, 866, 950, 626, 949, 687, 217, 815, 67, 104, 58, 512, 24, 892, 894, 767, 553, 81, 379, 843, 831, 445, 742, 717, 958,743, 527 ]\n"
   ]
  },
  {
   "cell_type": "code",
   "execution_count": 12,
   "id": "8fbd6add",
   "metadata": {},
   "outputs": [
    {
     "name": "stdout",
     "output_type": "stream",
     "text": [
      "[386, 462, 418, 344, 236, 566, 978, 328, 162, 758, 918, 412, 566, 826, 248, 866, 950, 626, 104, 58, 512, 24, 892, 894, 742, 958]\n"
     ]
    }
   ],
   "source": [
    "numbers = [386, 462, 47, 418, 907, 344, 236, 375, 823, 566, 597, 978, 328, 615, 953, 345, 399, 162, 758, 219, 918, 237, 412, 566, 826, 248, 866, 950, 626, 949, 687, 217, 815, 67, 104, 58, 512, 24, 892, 894, 767, 553, 81, 379, 843, 831, 445, 742, 717, 958,743, 527 ]\n",
    "even_list = []\n",
    "for item in numbers:\n",
    "    if item % 2 == 0:\n",
    "        even_list.append(item)\n",
    "print (even_list)"
   ]
  },
  {
   "cell_type": "markdown",
   "id": "82ecd09a",
   "metadata": {},
   "source": [
    "## ex 3"
   ]
  },
  {
   "cell_type": "markdown",
   "id": "02f7804a",
   "metadata": {},
   "source": [
    "Write a python program to sum two given integers. If the sum is within the range of 15 to 20, it returns 20. Otherwise it returns/prints the sum."
   ]
  },
  {
   "cell_type": "code",
   "execution_count": null,
   "id": "7b78771d",
   "metadata": {},
   "outputs": [],
   "source": [
    "first_num = int(input(\"insert first num:\"))\n",
    "second_num = int(input(\"insert second num:\"))\n",
    "sum_20 = first_num +second_num\n",
    "\n",
    "# else statment\n",
    "if sum_20>=15 and sum_20<=20:\n",
    "    sum_20 = 20\n",
    "    print( sum_20)\n",
    "else:\n",
    "    print( sum_20)\n"
   ]
  },
  {
   "cell_type": "markdown",
   "id": "eaf9fae0",
   "metadata": {},
   "source": [
    "## ex4"
   ]
  },
  {
   "cell_type": "markdown",
   "id": "8abfce2d",
   "metadata": {},
   "source": [
    "    Write a Python program to count the members of a list and print them.\n",
    "\n",
    "    Note: Count string items in a case insensitive manner.\n",
    "\n",
    "    example = [1, 5, 6, 1, 1, 's', 'S', 'pooya', \"Pooya\"]\n",
    "\n",
    "    res:\n",
    "\n",
    "     1 >>> 3\n",
    "     5 >>> 1\n",
    "     6 >>> 1\n",
    "     's' >>> 2\n",
    "     'pooya' >>> 2\n",
    "\n",
    "    note: in this exercise, you are not allowed to use: collection.Counter, np.unique, list.count, and so on. just use for, while, True, False, and ...\n",
    "\n"
   ]
  },
  {
   "cell_type": "code",
   "execution_count": 13,
   "id": "4380b3da",
   "metadata": {},
   "outputs": [
    {
     "name": "stdout",
     "output_type": "stream",
     "text": [
      "uniq item in list:  ['1', '5', '6', 'S', 'POOYA']\n",
      "1 >>>> 3\n",
      "5 >>>> 1\n",
      "6 >>>> 1\n",
      "S >>>> 2\n",
      "POOYA >>>> 2\n"
     ]
    }
   ],
   "source": [
    "# if it was sensetive about capital and small alphabet\n",
    "\n",
    "lis_main = [1, 5, 6, 1, 1,'s', 'S', 'pooya', \"Pooya\"]\n",
    "lis = []\n",
    "uniq = []\n",
    "\n",
    "#unsensetive it\n",
    "for item in  lis_main:\n",
    "    item = str(item)\n",
    "    lis.append(item.upper())\n",
    "\n",
    "#creat uniq list\n",
    "for item in lis:\n",
    "    if item not in uniq:\n",
    "        uniq.append(item)\n",
    "print(\"uniq item in list: \",uniq)\n",
    "\n",
    "#try to count them\n",
    "for item_uniq in uniq:\n",
    "    c=0\n",
    "    for item in lis:\n",
    "        if item_uniq == item:\n",
    "            c+=1\n",
    "    print(item_uniq,\">>>>\",c)"
   ]
  },
  {
   "cell_type": "markdown",
   "id": "e0970af5",
   "metadata": {},
   "source": [
    "### ex two-player Rock-Paper-Scissors game"
   ]
  },
  {
   "cell_type": "markdown",
   "id": "1dc4d4bf",
   "metadata": {},
   "source": [
    "    Make a two-player Rock-Paper-Scissors game.\n",
    "    Ask players to play and get their stands by calling the input function two times(each time for each player),\n",
    "    compare the two inputs,\n",
    "    print out a message of congratulation to the winner,\n",
    "    and ask whether the players want to play a new round.\n",
    "        If player returns y or yes, it mean they want to play another round.\n",
    "        Otherwise, break the loop and exit the code with an appropriate goodbye message!\n",
    "\n"
   ]
  },
  {
   "cell_type": "code",
   "execution_count": 15,
   "id": "f1818b80",
   "metadata": {},
   "outputs": [
    {
     "name": "stdout",
     "output_type": "stream",
     "text": [
      "Rock-Paper-Scissorsrock\n",
      "Rock-Paper-Scissorsscissors\n",
      "pleyer1 win\n",
      "y for yes and n for no do you want to playy\n",
      "Rock-Paper-Scissorsscissors\n",
      "Rock-Paper-Scissorspaper\n",
      "pleyer1 win\n",
      "y for yes and n for no do you want to playn\n",
      "bay by baby :) \n"
     ]
    }
   ],
   "source": [
    "flag = True\n",
    "\n",
    "while flag:             \n",
    "    player_a=input(\"Rock-Paper-Scissors\")\n",
    "    player_b=input(\"Rock-Paper-Scissors\")\n",
    "\n",
    "    if player_a == player_b:\n",
    "      print(\"we dont have a winner\")\n",
    "    elif player_a == 'rock' and player_b=='scissors':\n",
    "      print(\"pleyer1 win\")\n",
    "    elif player_a == 'paper' and player_b=='rock':\n",
    "      print(\"pleyer1 win\")\n",
    "    elif player_a == 'scissors' and player_b =='paper':\n",
    "     print(\"pleyer1 win\")\n",
    "    else:\n",
    "      print(\"pleyer2 win\")\n",
    "    \n",
    "    # ask for another round\n",
    "    start = input(\"y for yes and n for no do you want to play\")\n",
    "    if start == 'n':\n",
    "        print(\"bay by baby :) \")\n",
    "        flag = False\n",
    "        break\n"
   ]
  },
  {
   "cell_type": "markdown",
   "id": "78f7916f",
   "metadata": {},
   "source": [
    "### fibonanchi"
   ]
  },
  {
   "cell_type": "markdown",
   "id": "fae4bb51",
   "metadata": {},
   "source": [
    "Write a program that asks the user how many Fibonnaci numbers to generate and then generates them. Make sure to ask the user to enter the number of numbers in the sequence to generate.(Hint: The Fibonnaci seqence is a sequence of numbers which the next number in the sequence is the sum of the previous two numbers to it. The sequence looks like this: 1, 1, 2, 3, 5, 8, 13, …)"
   ]
  },
  {
   "cell_type": "code",
   "execution_count": 19,
   "id": "914d4eb6",
   "metadata": {},
   "outputs": [
    {
     "name": "stdout",
     "output_type": "stream",
     "text": [
      "how many number do you want I'm generate:4\n",
      "[1, 1, 2, 3]\n"
     ]
    }
   ],
   "source": [
    "# fibonanchi\n",
    "n=int(input(\"how many number do you want I'm generate:\"))\n",
    "ser=[1,1]\n",
    "\n",
    "if n==1:\n",
    "    print(1)\n",
    "if n==2:\n",
    "    print(1,1)\n",
    "if n>2:\n",
    "    for i in range(n-2):\n",
    "        c=ser[i]+ser[i+1]\n",
    "        ser.append(c)\n",
    "    print(ser)\n",
    "        "
   ]
  },
  {
   "cell_type": "markdown",
   "id": "850fdaea",
   "metadata": {},
   "source": [
    "#### password checker"
   ]
  },
  {
   "cell_type": "markdown",
   "id": "a350f131",
   "metadata": {},
   "source": [
    "Check a pre-defined password with user inputs for 3 times; let them pass if they're correct with less than 3 tries. Inform the user of being blocked if they enter more password incorrectly more than 4 times "
   ]
  },
  {
   "cell_type": "code",
   "execution_count": 3,
   "id": "5f8bad08",
   "metadata": {},
   "outputs": [
    {
     "name": "stdout",
     "output_type": "stream",
     "text": [
      "give me your passwordhi\n",
      "ha ha ha\n",
      "now guess your password\n",
      "insert your password:ho\n",
      "NOT CORRCT \n",
      "you use 1 trying from tree\n",
      "insert your password:hhh\n",
      "NOT CORRCT \n",
      "you use 2 trying from tree\n",
      "insert your password:hi\n",
      "yoy pass\n"
     ]
    }
   ],
   "source": [
    "n=0\n",
    "\n",
    "PASSWORD = input(\"give me your password\")\n",
    "print(\"ha ha ha\\nnow guess your password\")\n",
    "\n",
    "while n<3:\n",
    "    i=0\n",
    "    user_pass = input(\"insert your password:\")\n",
    "    if len(user_pass) == len(PASSWORD):\n",
    "        for t in range(len(user_pass)):\n",
    "            if user_pass[t]!= PASSWORD[t]:\n",
    "                i+=1\n",
    "    elif len(user_pass) != len(PASSWORD):\n",
    "        i+=1\n",
    "    \n",
    "    if i>0:\n",
    "        n+=1\n",
    "        print(f\"NOT CORRCT \\nyou use {n} trying from tree\")\n",
    "        \n",
    "    elif i ==0:\n",
    "        print(\"yoy pass\")\n",
    "        break"
   ]
  },
  {
   "cell_type": "markdown",
   "id": "b717f28c",
   "metadata": {},
   "source": [
    "###  sort or sortedمرتب کردن یک لیست بدون   "
   ]
  },
  {
   "cell_type": "code",
   "execution_count": null,
   "id": "f06a64c7",
   "metadata": {},
   "outputs": [],
   "source": [
    "def storee (lst):\n",
    " ser=[]\n",
    " while len(lst)>0:\n",
    "     a=lst[0]\n",
    "     for i in lst:\n",
    "         if a>i:\n",
    "             a=i\n",
    "     ser.append(a)\n",
    "     lst.remove(a)\n",
    " print(ser)\n",
    "\n",
    "storee([18,3,2,18,5,9,2])"
   ]
  },
  {
   "cell_type": "markdown",
   "id": "bf01b9ba",
   "metadata": {},
   "source": [
    "### روش خودش استفاده از روش حباب"
   ]
  },
  {
   "cell_type": "code",
   "execution_count": null,
   "id": "97490db5",
   "metadata": {},
   "outputs": [],
   "source": [
    "def _custom_bubble_sort_sample_(original_list):\n",
    "    my_list = original_list[:]\n",
    "    length = 0\n",
    "    for element in my_list:\n",
    "        length = length + 1\n",
    "    unSorted = True\n",
    "    while unSorted:\n",
    "        unSorted = False\n",
    "        for index in range(0, length-1):\n",
    "            if my_list[index] > my_list[index + 1]:\n",
    "                temporary_variable = my_list[index]\n",
    "                my_list[index] = my_list[index + 1]\n",
    "                my_list[index + 1] = temporary_variable\n",
    "                unSorted = True\n",
    "    return my_list \n",
    "\n",
    "_custom_bubble_sort_sample_([18,3,5,9,0,-4])"
   ]
  },
  {
   "cell_type": "code",
   "execution_count": null,
   "id": "152857e2",
   "metadata": {},
   "outputs": [],
   "source": [
    "# its exact the above but is's concized\n",
    "lst=[18,3,5,9,2]\n",
    "lst2=lst.copy()\n",
    "unsorted=True\n",
    "while unsorted:\n",
    "    unsorted=False\n",
    "    for i in range(len(lst)-1):\n",
    "        if lst2[i]>lst2[i+1]:\n",
    "            lst2[i],lst2[i+1]=lst2[i+1],lst2[i]\n",
    "            unsorted=True\n",
    "print(lst2)            "
   ]
  },
  {
   "cell_type": "markdown",
   "id": "09ac5c47",
   "metadata": {},
   "source": [
    "\"by farideh.mo.na"
   ]
  }
 ],
 "metadata": {
  "kernelspec": {
   "display_name": "Python 3 (ipykernel)",
   "language": "python",
   "name": "python3"
  },
  "language_info": {
   "codemirror_mode": {
    "name": "ipython",
    "version": 3
   },
   "file_extension": ".py",
   "mimetype": "text/x-python",
   "name": "python",
   "nbconvert_exporter": "python",
   "pygments_lexer": "ipython3",
   "version": "3.9.12"
  }
 },
 "nbformat": 4,
 "nbformat_minor": 5
}

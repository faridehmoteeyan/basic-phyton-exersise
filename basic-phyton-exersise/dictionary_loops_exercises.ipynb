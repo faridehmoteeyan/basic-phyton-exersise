{
 "cells": [
  {
   "cell_type": "markdown",
   "id": "ccadd189",
   "metadata": {},
   "source": [
    "#### you can find the source of questions here:\n",
    "<br>\n",
    "<a href=\"https://github.com/pooya-mohammadi/intro_to_python/blob/master/14_dictionary_loops_exercises.ipynb?short_path=5426461\">github</a>\n",
    " and   <a href=\"https://www.youtube.com/watch?v=MlNaBxip0VQ&list=PL2g_5adpoaeLU_lA-6kIDZk2uiH-LOpal&index=16\">you tube</a>\n"
   ]
  },
  {
   "cell_type": "markdown",
   "id": "9a11e722",
   "metadata": {},
   "source": [
    "### Task 1:\n",
    "\n",
    "Extract values from a dictionary that their keys are present in a given list\n",
    "\n"
   ]
  },
  {
   "cell_type": "code",
   "execution_count": 1,
   "id": "9f2d87d7",
   "metadata": {},
   "outputs": [
    {
     "name": "stdout",
     "output_type": "stream",
     "text": [
      "give me yourkeysalary age r\n"
     ]
    },
    {
     "data": {
      "text/plain": [
       "[0, 20]"
      ]
     },
     "execution_count": 1,
     "metadata": {},
     "output_type": "execute_result"
    }
   ],
   "source": [
    "dic={\"name\":\"farideh\",\n",
    "    \"age\":20,\n",
    "    \"gob\":\"unimployee\",\n",
    "    \"salary\":0}\n",
    "\n",
    "\n",
    "input_key = input(\"give me yourkey\")\n",
    "\n",
    "#Assumption:users use space to betwean their inputs\n",
    "list_input_key = input_key.split()\n",
    "\n",
    "# check if inputs exist as key (in if statment)\n",
    "[dic[item_input_key] for item_input_key in list_input_key if item_input_key in dic.keys()]"
   ]
  },
  {
   "cell_type": "markdown",
   "id": "520fc08f",
   "metadata": {},
   "source": [
    "### Task 2:\n",
    "\n",
    "flatten a nested dictionary. If a key is already present in the result dict, add a suffix like \"_1\" to distinguish between keys with the same name.\n",
    "\n"
   ]
  },
  {
   "cell_type": "code",
   "execution_count": 6,
   "id": "19bfdc3d",
   "metadata": {},
   "outputs": [],
   "source": [
    "student_data = {'id1':\n",
    "                    {'name': 'Sara',\n",
    "                     'age': 28,\n",
    "                     'salary': 2000\n",
    "                     },\n",
    "                'id2':\n",
    "                    {'name': 'Sara',\n",
    "                     'age': 18,\n",
    "                     'salary': 1000\n",
    "                     },\n",
    "                \"a\": \"A\",\n",
    "                'id3':\n",
    "                    {'name': 'Omid',\n",
    "                     \"age\": 20,\n",
    "                     'salary': 1000\n",
    "                     },\n",
    "                'id4': dict(name=\"Amir\", age=28, salary=2000),\n",
    "                \"last_name\": \"Mohammadi\",\n",
    "                }\n",
    "# output: {name_0: Sara, age_0: 28, salary_0: 2000, ..., a: A, ...,  name_1: sara, ..., last_name: Mohammadi}\n",
    "# Note: a and last_name do not have suffix because for each of them there is only one ... "
   ]
  },
  {
   "cell_type": "code",
   "execution_count": 51,
   "id": "cb8a74e4",
   "metadata": {
    "scrolled": true
   },
   "outputs": [
    {
     "data": {
      "text/plain": [
       "{'name_0': 'Sara',\n",
       " 'age_0': 28,\n",
       " 'salary_0': 2000,\n",
       " 'name_1': 'Sara',\n",
       " 'age_1': 18,\n",
       " 'salary_1': 1000,\n",
       " 'a': 'A',\n",
       " 'name_2': 'Omid',\n",
       " 'age_2': 20,\n",
       " 'salary_2': 1000,\n",
       " 'name_3': 'Amir',\n",
       " 'age_3': 28,\n",
       " 'salary_3': 2000,\n",
       " 'last_name': 'Mohammadi'}"
      ]
     },
     "execution_count": 51,
     "metadata": {},
     "output_type": "execute_result"
    }
   ],
   "source": [
    "dic_flatt = dict()\n",
    "c =- 1\n",
    "for student_val in  student_data.values():\n",
    "    if type(student_val) is dict:\n",
    "        c = int(c) + 1\n",
    "        for (key_inner,val_inner) in student_val.items():\n",
    "            key_flat = str(key_inner+ \"_\"+ str(c))\n",
    "            dic_flatt[key_flat] = val_inner\n",
    "    elif type(student_val) is str:\n",
    "        for x in student_data:\n",
    "            if student_data[x] == student_val:\n",
    "                key_string = x\n",
    "                dic_flatt[key_string] = student_val\n",
    "            \n",
    "\n",
    "        \n",
    "dic_flatt\n"
   ]
  },
  {
   "cell_type": "markdown",
   "id": "ff4375e5",
   "metadata": {},
   "source": [
    "### Task 3:\n",
    "Write a Python program to drop items with None or empty values from a given dictionary\n",
    "\n",
    " "
   ]
  },
  {
   "cell_type": "code",
   "execution_count": 2,
   "id": "132e2827",
   "metadata": {},
   "outputs": [
    {
     "name": "stdout",
     "output_type": "stream",
     "text": [
      "{'a': 'A', 'b': 'B'}\n"
     ]
    }
   ],
   "source": [
    "dict_ = {\"a\": \"A\", \"b\": \"B\", \"c\": None, \"d\": \"\"}\n",
    "\n",
    "none_empty_keys = [key_dict for key_dict,val_dict in dict_.items() if val_dict is None or val_dict==\"\"]\n",
    "\n",
    "for none_empty_key in none_empty_keys:\n",
    "    del dict_[none_empty_key]\n",
    "    \n",
    "print(dict_)"
   ]
  },
  {
   "cell_type": "code",
   "execution_count": 2,
   "id": "8e19c2ca",
   "metadata": {},
   "outputs": [
    {
     "ename": "SyntaxError",
     "evalue": "invalid syntax (3823270417.py, line 4)",
     "output_type": "error",
     "traceback": [
      "\u001b[1;36m  Input \u001b[1;32mIn [2]\u001b[1;36m\u001b[0m\n\u001b[1;33m    [ (del dict_[i]) for i in a ]\u001b[0m\n\u001b[1;37m       ^\u001b[0m\n\u001b[1;31mSyntaxError\u001b[0m\u001b[1;31m:\u001b[0m invalid syntax\n"
     ]
    }
   ],
   "source": [
    "dict_ = {\"a\": \"A\", \"b\": \"B\", \"c\": None, \"d\": \"\"}\n",
    "\n",
    "a=[k for k,v in dict_.items() if v==None or v==\"\"]\n",
    "# its not generate a value.\n",
    "[ (del dict_[i]) for i in a ]"
   ]
  },
  {
   "cell_type": "markdown",
   "id": "17e198b6",
   "metadata": {},
   "source": [
    "### Task 4:\n",
    "Create a dictionary two given lists using `zip`\n",
    "\n"
   ]
  },
  {
   "cell_type": "code",
   "execution_count": 5,
   "id": "819ea2ae",
   "metadata": {},
   "outputs": [
    {
     "data": {
      "text/plain": [
       "{'a': 'a', 'ali': 'ali', 'b': 'b'}"
      ]
     },
     "execution_count": 5,
     "metadata": {},
     "output_type": "execute_result"
    }
   ],
   "source": [
    "lst_1 = [\"a\", \"ali\", \"b\"]\n",
    "lst_2 = [\"a\", \"ali\", \"b\"]\n",
    "\n",
    "dict([(list1_item,list2_item) for list1_item,list2_item in zip(lst_1,lst_2)])"
   ]
  },
  {
   "cell_type": "markdown",
   "id": "764fc7ab",
   "metadata": {},
   "source": [
    "f.r.m.n"
   ]
  }
 ],
 "metadata": {
  "kernelspec": {
   "display_name": "Python 3 (ipykernel)",
   "language": "python",
   "name": "python3"
  },
  "language_info": {
   "codemirror_mode": {
    "name": "ipython",
    "version": 3
   },
   "file_extension": ".py",
   "mimetype": "text/x-python",
   "name": "python",
   "nbconvert_exporter": "python",
   "pygments_lexer": "ipython3",
   "version": "3.9.12"
  }
 },
 "nbformat": 4,
 "nbformat_minor": 5
}

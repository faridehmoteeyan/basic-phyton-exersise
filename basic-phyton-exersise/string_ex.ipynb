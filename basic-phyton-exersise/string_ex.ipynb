{
 "cells": [
  {
   "cell_type": "markdown",
   "id": "dfba9343",
   "metadata": {},
   "source": [
    "تابعی بنویسید که یک رشته ورودی دریافت کند و یک رشته برگرداند که در آن وضعیت کاراکترها تغییر می کند، بعنوان مثال: تمام کاراکترهای حروف بزرگ تغییر می کنند به وضعیت کوچک و تمام کاراکترهای در وضعیت کوچک به وضعیت بزرگ تغییر می یابند. کاراکترهای غیرالفبایی نباید تغییر کنند. از روش های رشته همچون upper()، lower() یا swap() استفاده نکنید"
   ]
  },
  {
   "cell_type": "code",
   "execution_count": 11,
   "id": "943a6f2f",
   "metadata": {},
   "outputs": [],
   "source": [
    "def sswap(a):\n",
    "    n=\"\"\n",
    "    for ch in a:\n",
    "        if ord(ch)>=ord(\"a\") and ord(ch) <= ord(\"z\"):\n",
    "            n+=chr(ord(ch)-32)\n",
    "        elif ord(ch)>=ord(\"A\") and ord(ch) <= ord(\"Z\"):\n",
    "            n+=chr(ord(ch)+32)\n",
    "        else:\n",
    "            n+=ch\n",
    "    return n"
   ]
  },
  {
   "cell_type": "code",
   "execution_count": 13,
   "id": "449eaaa6",
   "metadata": {},
   "outputs": [
    {
     "data": {
      "text/plain": [
       "'HOlllAEs+4DDa'"
      ]
     },
     "execution_count": 13,
     "metadata": {},
     "output_type": "execute_result"
    }
   ],
   "source": [
    "sswap(\"hoLLLaeS+4ddA\")"
   ]
  },
  {
   "cell_type": "markdown",
   "id": "4671ddda",
   "metadata": {},
   "source": [
    "تابعی بنویسید که یک رشته ورودی شامل کاراکترهای الفبایی و اعداد و فاصله ها را دریافت کند و رشته ای با تمام فاصله های حذف شده را برگرداند. از هیچ یک از متدهای رشته برای این مسئله استفاده نکنید."
   ]
  },
  {
   "cell_type": "code",
   "execution_count": 16,
   "id": "94753a45",
   "metadata": {},
   "outputs": [
    {
     "data": {
      "text/plain": [
       "'gpogg--b'"
      ]
     },
     "execution_count": 16,
     "metadata": {},
     "output_type": "execute_result"
    }
   ],
   "source": [
    "def space_striper(a):\n",
    "    b=\"\"\n",
    "    for ch in a:\n",
    "        if ch==\" \":\n",
    "            continue\n",
    "        else:\n",
    "            b+=ch\n",
    "    return b\n",
    "\n",
    "space_striper(\" gpo gg --b \")"
   ]
  }
 ],
 "metadata": {
  "kernelspec": {
   "display_name": "Python 3 (ipykernel)",
   "language": "python",
   "name": "python3"
  },
  "language_info": {
   "codemirror_mode": {
    "name": "ipython",
    "version": 3
   },
   "file_extension": ".py",
   "mimetype": "text/x-python",
   "name": "python",
   "nbconvert_exporter": "python",
   "pygments_lexer": "ipython3",
   "version": "3.9.12"
  }
 },
 "nbformat": 4,
 "nbformat_minor": 5
}

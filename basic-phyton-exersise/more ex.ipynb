{
 "cells": [
  {
   "cell_type": "markdown",
   "id": "c8eb3324",
   "metadata": {},
   "source": [
    "## some exersises:\n",
    "### from:\n",
    "#### *** استاد جادی میرمیرانی    *** سایت مکتب خونه"
   ]
  },
  {
   "cell_type": "markdown",
   "id": "6c23ee97",
   "metadata": {},
   "source": [
    "### ex1"
   ]
  },
  {
   "cell_type": "raw",
   "id": "7962428c",
   "metadata": {},
   "source": [
    "مراحل بازی به این ترتیب می باشد:\n",
    "ابتدا کاربر  یک عدد را در ذهن خود مشخص می کند و به کامپیوتر این عدد را نمی گوید (به عنوان ورودی به کامپیوتر عدد را نمی دهد)(عددی بین ۱ تا ۹۹)\n",
    "برنامه را اجرا می کنیم\n",
    "برنامه یک عدد را حدس زده و چاپ می کند \n",
    "عدد چاپ شده سه حالت را  ایجاد می کند\n",
    "۱-یا از عددی که شما در ذهن خود دارید بزرگتر هست که شما با تایپ حرف k به برنامه می گویید که عدد در ذهن شما از عددی که برنامه چاپ کرده کوچکتر است و برنامه باید عدد دیگری را حدس زده و نمایش بدهد و ... (قابل ذکر است که در این حالت با تایپ k برنامه باید عدد کوچکتری از حدس قبلی خود حدس بزند تا بازی زودتر تمام شود)\n",
    "۲-و یا اینکه عدد چاپ شده از از عددی که شما در ذهن خود دارید کوچکتر هست که با تاپ حرف b به برنامه می گویید که عدد در ذهن شما از عددی که برنامه چاپ کرده بزرگتر  است و برنامه باید عدد دیگری را حدس زده و نمایش بدهد و ... (قابل ذکر است که در این حالت با تایپ b برنامه باید عدد بزرگتری از حدس قبلی خود حدس بزند تا بازی زودتر تمام شود)\n",
    "۳- و یا اینکه عدد چاپ شده همان عددی است که در ذهن شما بود و با تایپ حرف d به برنامه می گویید که درست حدس زده و برنامه تمام می شود\n"
   ]
  },
  {
   "cell_type": "code",
   "execution_count": 7,
   "id": "207f0594",
   "metadata": {},
   "outputs": [
    {
     "name": "stdout",
     "output_type": "stream",
     "text": [
      "\"\"select a number betwean 1 to 99\n",
      "      k means your num is bigger than mine\n",
      "      b means your num is smaller than mine\n",
      "      enter d if i guess correctly\n",
      "50\n",
      "give me your letter\tb\n",
      "5\n",
      "give me your letter\tb\n",
      "2\n",
      "give me your letter\td\n",
      "I did it,your num is  2 in 3 selections\n"
     ]
    }
   ],
   "source": [
    "import random\n",
    "print(\"\"\"\"\"select a number betwean 1 to 99\n",
    "      k means your num is bigger than mine\n",
    "      b means your num is smaller than mine\n",
    "      enter d if i guess correctly\"\"\"\"\")\n",
    "x = 50\n",
    "maxim = 99\n",
    "minim = 1\n",
    "counter = 0\n",
    "\n",
    "locker = True\n",
    "while locker:\n",
    "    counter += 1\n",
    "    print(x)\n",
    "    helper = input(\"give me your letter\\t\")\n",
    "    if helper =='d':\n",
    "        print(\"I did it,your num is \",x,f\"in {counter} selections\")\n",
    "        locker = False\n",
    "    if helper =='k':\n",
    "        minim = x + 1\n",
    "        x = random.randint(x+1, maxim)\n",
    "    if helper =='b':\n",
    "        maxim = x - 1\n",
    "        x=random.randint(minim, x-1)        \n",
    "        "
   ]
  },
  {
   "cell_type": "code",
   "execution_count": null,
   "id": "c54c1c95",
   "metadata": {},
   "outputs": [],
   "source": [
    "#make it more playful\n",
    "\n",
    "a=int(input(\"do yoy think Ican find your number in ... attempt\"))\n",
    "\n",
    "#main function\n",
    "import random\n",
    "print(\"\"\"\"\"select a number betwean 1 to 99\n",
    "      k means your num is bigger than mine\n",
    "      b means your num is smaller than mine\n",
    "      enter d if i guess correctly\"\"\"\"\")\n",
    "x = 50\n",
    "maxim = 100\n",
    "minim = 0\n",
    "counter = 0\n",
    "\n",
    "locker = True\n",
    "while locker:\n",
    "    counter += 1\n",
    "    print(x)\n",
    "    helper = input(\"give me your letter\")\n",
    "    if helper == 'd':\n",
    "        print(\"I did it,your num is \",x,f\"in {counter} selections\")\n",
    "        locker=False\n",
    "    if helper == 'k':\n",
    "        minim = x+1\n",
    "        x = random.randint(x + 1, maxim)\n",
    "    if helper == 'b':\n",
    "        maxim = x - 1\n",
    "        x = random.randint(minim,x-1) \n",
    "\n",
    "#comper number of attempt with your guess\n",
    "if counter == a:\n",
    "    print(\"you win \")\n",
    "elif counter < a:\n",
    "    print(\"you cant guess well,it was too pessimistic \")\n",
    "else:\n",
    "    print(\"you are not as lucky as computer,i wish you try biggest number\")\n"
   ]
  },
  {
   "cell_type": "markdown",
   "id": "319d3e96",
   "metadata": {},
   "source": [
    "## ex2"
   ]
  },
  {
   "cell_type": "markdown",
   "id": "e1c441f7",
   "metadata": {},
   "source": [
    "برنامه ای بنویسید که سن کاندیداهای مجلس شورای اسلامی را از ورودی بخواند و سن بزرگترین آنها را در خروجی چاپ کند. برنامه ی شما تا زمانی به خواندن از ورودی ادامه می دهد که عدد منفی یک وارد نشده باشد. به محض اینکه این عدد در ورودی ظاهر شد برنامه باید خواندن ورودی را خاتمه دهد و بزرگترین سن را چاپ کند. سن افراد در بازه ی ۱۰ تا ۹۰ سال می باشد.\n",
    "ورودی نمونه:\n",
    "17\n",
    "15\n",
    "39\n",
    "51\n",
    "14\n",
    "32\n",
    "28\n",
    "-1\n",
    "خروجی نمونه:\n",
    "51\n"
   ]
  },
  {
   "cell_type": "code",
   "execution_count": 2,
   "id": "7bd649a9",
   "metadata": {},
   "outputs": [
    {
     "name": "stdout",
     "output_type": "stream",
     "text": [
      "give me his age,-1 for calcluate2\n",
      "give me his age,-1 for calcluate5\n",
      "give me his age,-1 for calcluate3\n",
      "give me his age,-1 for calcluate1\n",
      "give me his age,-1 for calcluate-1\n",
      "the max age is 5\n"
     ]
    }
   ],
   "source": [
    "number2=0\n",
    "number1=0\n",
    "\n",
    "while 1:\n",
    "    number2 = int(input(\"give me his age,-1 for calcluate\"))\n",
    "    if number2 == -1:\n",
    "        break\n",
    "    if number1 < number2:\n",
    "        number1 = number2\n",
    "print(\"the max age is\",number1)\n",
    "    "
   ]
  },
  {
   "cell_type": "markdown",
   "id": "684c6444",
   "metadata": {},
   "source": [
    "### ex 3"
   ]
  },
  {
   "cell_type": "markdown",
   "id": "6c5cb9d9",
   "metadata": {},
   "source": [
    "سامان تازه کار با رشته ها رو یاد گرفته. برای شروع کار با رشته ها یه سوال نسبتا ساده پیش روی اون قرار گرفته ولی به کمک شما نیاز داره تا بتونه انجامش بده. سامان باید برنامه این بنویسه که یه رشته ی حرفی رو از ورودی بخونه و تغییرات زیر رو در اون اعمال کنه.\n",
    "\n",
    "\n",
    "۱ - تمامی حروف صدادار رو پاک کنه.\n",
    "۲ - قبل از هر حرف بی صدا یک نقطه چاپ کنه.\n",
    "۳ - تمام حروف بی صدا که باقی مانده اند را به صورت کوچک بنویسد.\n",
    "\n",
    "(حروف صدادار aeiou می باشند)\n",
    "\n",
    "ورودی نمونه:\n",
    "aBAcAba\n",
    "\n",
    "خروجی نمونه:\n",
    ".b.c.b\n"
   ]
  },
  {
   "cell_type": "code",
   "execution_count": null,
   "id": "c67d216b",
   "metadata": {},
   "outputs": [],
   "source": [
    "string = input(\"enter your string,I'll put dot instead of soundletter ,then make CAPITAL WORD to small one\")\n",
    "sound =\"aeiouAEIOU\"\n",
    "new_string = \"\"\n",
    "\n",
    "for ch in string:\n",
    "    if ch in sound:\n",
    "        new_string=new_string + \".\"\n",
    "    else:\n",
    "        ch = ch.lower()\n",
    "        new_string = new_string + ch\n",
    "print(new_string)\n"
   ]
  },
  {
   "cell_type": "markdown",
   "id": "7fa98090",
   "metadata": {},
   "source": [
    "### ex4"
   ]
  },
  {
   "cell_type": "markdown",
   "id": "a824231e",
   "metadata": {},
   "source": [
    "برنامه ای بنویسید که ۲۰ عدد از ورودی بخواند و در انتها عددی که بیشترین تعداد مقسوم علیه را دارد به همراه تعداد مقسوم علیه‌‌‌‌‌‌‌‌‌‌‌‌های آن در خروجی چاپ کند. اگر چند عدد این حالت را داشتند بزرگترین آنها را چاپ کند.\n",
    "\n",
    "یکی از هدف های سوالات از این به بعد استفاده از تابع می باشد. هر جا احساس کردید می توانید قسمتی از کد را به صورت یک تابع جداگانه بنویسید این کار را انجام دهید. برای این سوال تابعی بنویسید که یک عدد به عنوان ورودی دریافت کند و تعداد مقسوم علیه های آن عدد را در خروجی چاپ کند. سپس در برنامه ی خود از این تابع استفاده کنید.\n"
   ]
  },
  {
   "cell_type": "code",
   "execution_count": 6,
   "id": "dfa8a6d6",
   "metadata": {},
   "outputs": [],
   "source": [
    "#calclute how many divisor we have\n",
    "\n",
    "def divisor(num):\n",
    "    counter  =2 \n",
    "    last_divisor = int(num/2) + 1\n",
    "    for item in range(2,last_divisor):\n",
    "        if num % item == 0:\n",
    "            counter += 1\n",
    "    return counter"
   ]
  },
  {
   "cell_type": "code",
   "execution_count": null,
   "id": "cae81ed1",
   "metadata": {},
   "outputs": [],
   "source": [
    "min_renge  =0\n",
    "number_most_division = 0\n",
    "for i in range(20):\n",
    "    num = int(input(\"enter your number\"))\n",
    "    if divisor(num) > min_renge:\n",
    "        min_renge = divisor(num)\n",
    "        number_most_division = num\n",
    "        \n",
    "print(f\"{number_most_division} has most divisions with ,{min_renge} divisions\")"
   ]
  },
  {
   "cell_type": "code",
   "execution_count": null,
   "id": "0fd657e1",
   "metadata": {},
   "outputs": [],
   "source": []
  }
 ],
 "metadata": {
  "kernelspec": {
   "display_name": "Python 3 (ipykernel)",
   "language": "python",
   "name": "python3"
  },
  "language_info": {
   "codemirror_mode": {
    "name": "ipython",
    "version": 3
   },
   "file_extension": ".py",
   "mimetype": "text/x-python",
   "name": "python",
   "nbconvert_exporter": "python",
   "pygments_lexer": "ipython3",
   "version": "3.9.12"
  }
 },
 "nbformat": 4,
 "nbformat_minor": 5
}
